{
 "cells": [
  {
   "cell_type": "code",
   "execution_count": 1,
   "id": "8a232d04-9f69-4834-9f0f-54a2be9144ed",
   "metadata": {},
   "outputs": [
    {
     "name": "stdout",
     "output_type": "stream",
     "text": [
      "Member1이 작업함\n"
     ]
    }
   ],
   "source": [
    "print('Member1이 작업함')"
   ]
  },
  {
   "cell_type": "code",
   "execution_count": null,
   "id": "fe93816b-8a45-41c7-8b43-d4e64f546f5e",
   "metadata": {},
   "outputs": [],
   "source": [
    "print('Member1이 또 작업함')"
   ]
  }
 ],
 "metadata": {
  "kernelspec": {
   "display_name": "Python 3 (ipykernel)",
   "language": "python",
   "name": "python3"
  },
  "language_info": {
   "codemirror_mode": {
    "name": "ipython",
    "version": 3
   },
   "file_extension": ".py",
   "mimetype": "text/x-python",
   "name": "python",
   "nbconvert_exporter": "python",
   "pygments_lexer": "ipython3",
   "version": "3.11.5"
  }
 },
 "nbformat": 4,
 "nbformat_minor": 5
}
